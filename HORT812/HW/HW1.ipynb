{
 "cells": [
  {
   "cell_type": "markdown",
   "id": "b9c458f0",
   "metadata": {},
   "source": [
    "# Homework 1 :: Professor Agron, Hort 812, UW-Madison "
   ]
  },
  {
   "cell_type": "markdown",
   "id": "9c90e3aa",
   "metadata": {},
   "source": [
    "#### 1.      (10 points) Write an R script to calculate the selection intensity for truncation selection of the top 13.5% of a population. \n",
    "#### What is the answer to 2 decimal places? Upload your R script with your assignment. "
   ]
  },
  {
   "cell_type": "markdown",
   "id": "b54eed33",
   "metadata": {},
   "source": [
    "Selection intensity is given by:\n",
    "\n",
    "intensity $ = \\frac{\\phi\\left (\\Phi^{-1}(1-\\xi) \\right)}{\\xi}$, where\n",
    "\n",
    "$\\xi = z/100$ is the fraction of the population selected ($z$ is percent)\n",
    "\n",
    "$\\phi(x)$ is the Probability Density Function (PDF) for a normal distribution \\\n",
    "  $\\phi(x) = $ dnorm in R  \n",
    "  \n",
    "$\\Phi(x)$ is the Cumulative Density Function (CDF) for a normal distribution \\\n",
    "  $\\Phi(x) = $ pnorm in R \n",
    "  \n",
    "$\\Phi^{-1}(x)$ is the Quantile for a normal distribution \\\n",
    "  $\\Phi^{-1}(x) = $ qnorm in R"
   ]
  },
  {
   "cell_type": "code",
   "execution_count": 1,
   "id": "0850b2e2",
   "metadata": {},
   "outputs": [
    {
     "data": {
      "text/html": [
       "1.60828511585512"
      ],
      "text/latex": [
       "1.60828511585512"
      ],
      "text/markdown": [
       "1.60828511585512"
      ],
      "text/plain": [
       "[1] 1.608285"
      ]
     },
     "metadata": {},
     "output_type": "display_data"
    }
   ],
   "source": [
    "# set parameter(s)\n",
    "z <- 0.135 # fraction of population selected\n",
    "\n",
    "# define intensity function\n",
    "intensity <- function(z){\n",
    "    return( dnorm( qnorm (1-z) ) / z )\n",
    "}\n",
    "\n",
    "#call function\n",
    "intensity(z)\n",
    "    "
   ]
  },
  {
   "cell_type": "markdown",
   "id": "59a06e6a",
   "metadata": {},
   "source": [
    "#### 2.      (10 points) For selection on phenotypic means in a replicated experiment with a completely randomized design, \n",
    "##### A. How would you calculate selection accuracy from the entry-mean heritability?  \n",
    "##### B. How would you calculate selection accuracy from the plot-based heritability?  "
   ]
  },
  {
   "cell_type": "markdown",
   "id": "4498b505",
   "metadata": {},
   "source": [
    "The Breeder's equation can be written as $R_2 = r_{1,2} \\frac{\\sigma_2}{\\sigma_1}S_1$, \n",
    "where \\\n",
    "$R_2$ is the response on variable 2 (shifted mean - original mean) \\\n",
    "$r_{1,2}$ is the correlation between variables 1 and 2 \\\n",
    "$S_1$ is the selection on variable 1 (shifted mean - original mean)\n",
    "\n",
    "It can be rewritten in terms of the selection intensity on variable 1 $i_1$ as \\\n",
    "$R_{2}=i_{1}r_{1,2}\\sigma_{2}S_1$\n",
    "\n",
    "In this form, the selection accuracy is the constant of proportionality between the response $R_2$ and the selection, scaled by the intensity of the selection $i_1 S_1$.\n",
    "\n",
    "Thus accuracy is given as $\\text{A} = r_{1,2}\\sigma_{2} = \\frac{\\sigma_{1,2}\\sigma_2}{\\sigma_1\\sigma_2} = \\frac{\\sigma_{1,2}}{\\sigma_1}$.\n",
    "\n",
    "----------\n",
    "Heritability is defined as the full constant of proportionality between $R_2$ and $S_1$, so  $h^2 = R_2 / S_1 = \\sigma_{1,2}/\\sigma_1^2 = A/\\sigma_1$.\n",
    "\n",
    "Therefore the accuracy is found from heritability as $A = h^2 \\sigma_1$.\n"
   ]
  },
  {
   "cell_type": "markdown",
   "id": "a4c02b75",
   "metadata": {},
   "source": [
    "#### 3.      (10 points) If the plot-based heritability is 0.2, what is the entry-mean heritability with 2 reps? "
   ]
  },
  {
   "cell_type": "markdown",
   "id": "2eafd058",
   "metadata": {},
   "source": [
    "Assuming that we are still working in the framework of a Completely Randomized Design\n",
    "\n",
    "Let\\\n",
    "$\\hat{g}_{ij}=$ prediction of genotypic value \\\n",
    "$g_i=$ true genotypic value \\\n",
    "$e_{ij}=\\hat{g}_i-g_{ij}=$ prediction error\n",
    "\n",
    "Where the indices \\\n",
    "$i\\in\\{1,\\dots,n\\}$ indicates the genotype ID \\\n",
    "$j\\in\\{1,\\dots,m\\}$ indicates the replicate number (for each genotype)\n",
    "\n",
    "\n",
    "Plot-based heritability means we have one plot, so $m=1$. \\\n",
    "Entry-mean heritability means we have more than one plot and average over them, so $m>1$\n",
    "\n",
    "\n",
    "Heritability is given by \n",
    "\\begin{align}\n",
    " h^2 &= \\text{Cov}(g,\\hat{g})/\\text{Var}(\\hat{g}) \n",
    "\\end{align}\n",
    "    \n",
    "Solving the numerator, we have\n",
    "\\begin{align}\n",
    "\\text{Num} &=  \\text{Cov}(g,\\hat{g})   \\\\\n",
    " {} &=  \\text{Cov}(g, g+e)  \\\\\n",
    " {} &= \\text{Cov}(g,g) + \\text{Cov}(g,e)  \\\\\n",
    " {} &= \\sigma^2_g \n",
    "\\end{align}\n",
    "where in the last line we used the fact that the true genotypic value ($g$) and the prediction error ($e$) are uncorrelated, thus $\\text{Cov}(g,e)=0$\n",
    "\n",
    "Solving for the denominator, we have\n",
    "\\begin{align}\n",
    "\\text{Den} &= \\text{Var}(\\hat{g}) \\\\\n",
    " &= \\text{Var}(g+e) \\\\\n",
    " &= \\text{Var}(g) + \\text{Var}(e) + 2\\text{Cov}(g,e) \\\\\n",
    " &= \\sigma^2_g + \\sigma^2_e\n",
    "\\end{align}\n",
    "after expanding the variance of a sum and again using the fact that $\\text{Cov}(g,e)=0$.\n",
    "\n",
    "\n",
    "To find the variance $\\sigma^2_e$, we compute it directly by averaging over the $j$ replicates\n",
    "\\begin{align}\n",
    "\\sigma^2_e &= \\sigma^2_{\\bar{e}_{i\\cdot}} \\\\\n",
    " &= \\text{Var}(\\bar{e}_{i\\cdot}) \\\\\n",
    " &= \\text{Var} [(1/m)(e_{i1}+e_{i2}+\\dots+e_{im})]  \\\\\n",
    " &= (1/m^2)[\\text{Var}(e_{i1})+\\text{Var}(e_{i2})+\\dots+\\text{Var}(e_{im})] \\\\\n",
    " &= (1/m^2)[m\\sigma^2_\\epsilon] \\\\\n",
    " &= \\frac{\\sigma^2_\\epsilon}{m}\n",
    "\\end{align}\n",
    "Where we used the fact that the errors are independent (no covariance) to go from line 3 to 4 and the fact that the errors are all distributed with the same variance parameter ($\\sigma^2_\\epsilon$) in going from line 4 to 5.\n",
    "\n",
    "\n",
    "Putting this all together, we have $h^2 = (\\sigma^2_g)/(\\sigma^2_g + \\sigma^2_\\epsilon/m)$.\n",
    "\n",
    "We are given $h^2(m=1)=x$ (where $x=0.2$) and are looking for $h^2(m=2)$ in terms of $x$.\n",
    "\n",
    "Simplifying notation using $\\sigma^2_A = A$ and manipulating the $h^2(m=1)$ equation, we have\n",
    "\n",
    "\\begin{align}\n",
    "x &= g/(g+\\epsilon) \\\\\n",
    "x(g+\\epsilon) &= g  \\\\\n",
    "g(1-x) &= x\\epsilon \\\\\n",
    "\\epsilon &= g(1-x)/x\n",
    "\\end{align}\n",
    "\n",
    "Substituting this into our general expression for $h^2$, we have\n",
    "\n",
    "\\begin{align}\n",
    "h^2 &= g/(g+\\epsilon/m)       \\\\\n",
    " &= g/(g+[g(1-x)/mx])         \\\\\n",
    " &= 1/(1+[1-x]/mx)            \\\\\n",
    " &= mx/(1+[m-1]x)\n",
    "\\end{align}\n",
    "\n",
    "For $m=2$ replicates and $x=0.2$ this corresponds to:"
   ]
  },
  {
   "cell_type": "code",
   "execution_count": 2,
   "id": "11ad72a2",
   "metadata": {},
   "outputs": [
    {
     "data": {
      "text/html": [
       "0.333333333333333"
      ],
      "text/latex": [
       "0.333333333333333"
      ],
      "text/markdown": [
       "0.333333333333333"
      ],
      "text/plain": [
       "[1] 0.3333333"
      ]
     },
     "metadata": {},
     "output_type": "display_data"
    }
   ],
   "source": [
    "# set variables\n",
    "m <- 2\n",
    "x <- 0.2\n",
    "\n",
    "# define function\n",
    "hfunc <- function(m,x){\n",
    "    return( (m*x)/(1+(m-1)*x) )\n",
    "}\n",
    "\n",
    "# call function\n",
    "hfunc(m,x)"
   ]
  },
  {
   "cell_type": "markdown",
   "id": "85aa30f6",
   "metadata": {},
   "source": [
    "#### 4.      (10 points) You are tasked with breeding for yield in a region where production is rainfed and drought stress is common. However, on your research farm, you have the option of irrigating. Previous research suggests the entry-mean heritability for your trials under rainfed conditions is 0.2, while under irrigated conditions it is 0.5. How high does the genetic correlation between the two managements systems need to be for indirect selection under irrigation to be the superior strategy for genetic gain?"
   ]
  },
  {
   "cell_type": "markdown",
   "id": "98216bb2",
   "metadata": {},
   "source": [
    "The distribution of phenotypes for under rainfed and irrigated conditions will be normal and we assume the combined distribution over both conditions is bivariate normal, using (1) for rainfed and (2) for irrigated. \n",
    "\n",
    "Finding the shift in the mean of the expectation value for $x_2$ after truncating the $x_1$ distribution directly leads to the Breeder's Equation:\n",
    "\n",
    "$R_2 = r_{12}\\frac{\\sigma_2}{\\sigma_1}S_1$,  \\\n",
    "Where \\\n",
    "$R_2 = E[x_2|x_1\\geq a] - \\mu_2$ is the response in the mean of $x_2$ after applying the selection $x_1\\geq a$ \\\n",
    "$r_{1,2} = \\sigma_{1,2}/(\\sigma_1)(\\sigma_2)$ expresses the correlation between $x_1$ and $x_2$ in terms of their covariance scaled by the individual variances  \\\n",
    "$S_1 = E[x_1|x_1\\geq a] - \\mu_1$ is the selection on $x_1$, which is mathematically equivalant to finding the response on $x_1$ after truncating $x_1$\n",
    "\n",
    "\n",
    "The Breeder's Equation can be rewritten in terms of the selection intensity as $R=ir\\sigma$\n",
    "\n",
    "\n",
    "Let $y_1$ be the phenotype associated with rainfed conditions \\\n",
    "then $y_1 = g_1 + e_1$\n",
    "\n",
    "Let $y_2$ be the phenotype associated with irrigated conditions \\\n",
    "then $y_2 = g_2 + e_2$\n",
    "\n",
    "\n",
    "For direct selection on $x_1$, the Breeder's Equation reads\n",
    "\n",
    "$R_{g_1}=i_{y_1}r_{y_1,g_1}\\sigma_{g_1}$\n",
    "\n",
    "For indirect selection (selection on $x_2$, response on $x_1$), the Breeder's Equation reads\n",
    "\n",
    "$R_{g_1}=i_{y_2}r_{y_2,g_1}\\sigma_{g_1}$\n",
    "\n",
    "\n",
    "and the question asks us to identify when these two expressions for $R_{g_1}$ reach parity. Assuming a fair experiment, the selection intensities between the two schemes should be the same, so we take $i_{y_1}=i_{y_2}$ and the equations differ only via the $r$ term in the product. \n",
    "\n",
    "--------------------------\n",
    "For direct selection,\n",
    "\\begin{align}\n",
    "r_{y_1,g_1} &= \\text{Cov}(y_1,g_1)/\\sigma_{y_1}\\sigma_{g_1}  \\\\\n",
    "  &= \\text{Cov}(g_1+e_1,g_1)/\\sigma_{y_1}\\sigma_{g_1}        \\\\\n",
    "  &= \\left[ \\text{Cov}(g_1,g_1) + \\text{Cov}(e_1,g_1)\\right] / \\sigma_{y_1}\\sigma_{g_1}  \\\\\n",
    "  &= \\sigma^2_{g_1} / \\sigma_{y_1}\\sigma_{g_1}   \\\\\n",
    "  &= \\sigma_{g_1} / \\sigma_{y_1} \\\\\n",
    "  &= h_1\n",
    "\\end{align}\n",
    "Where $h_1$ is the root of the heritability on $x_1$.\n",
    "\n",
    "-------------\n",
    "\n",
    "For indirect selection,\n",
    "\\begin{align}\n",
    "r_{y_2,g_1} &= \\text{Cov}(y_2,g_1)/\\sigma_{y_2}\\sigma_{g_1}  \\\\\n",
    "  &= \\text{Cov}(g_2+e_2,g_1)/\\sigma_{y_2}\\sigma_{g_1}        \\\\\n",
    "  &= \\left[ \\text{Cov}(g_2,g_1) + \\text{Cov}(e_2,g_1)\\right] / \\sigma_{y_2}\\sigma_{g_1}  \\\\\n",
    "  &= \\text{Cov}(g_2,g_1)/\\sigma_{y_2}\\sigma_{g_1}  \\\\\n",
    "  &= \\left[\\text{Cov}(g_2,g_1)/\\sigma_{g_2}\\sigma_{g_1}\\right]\\left[ \\sigma_{g_2}/\\sigma_{g_1} \\right]  \\\\\n",
    "  &= r_g h_2\n",
    "\\end{align}\n",
    "Where $r_g = r_{g_1,g_2}$ is the genetic correlation between conditions 1 and 2, and $h_2$ is the heritability under condition 2.\n",
    "\n",
    "-----\n",
    "Thus, parity is reached when $r_g h_2 = h_1$ and indirect selection is superior when $r_g h_2 > h_1$"
   ]
  },
  {
   "cell_type": "code",
   "execution_count": 3,
   "id": "9b7369f0",
   "metadata": {},
   "outputs": [
    {
     "data": {
      "text/html": [
       "0.4"
      ],
      "text/latex": [
       "0.4"
      ],
      "text/markdown": [
       "0.4"
      ],
      "text/plain": [
       "[1] 0.4"
      ]
     },
     "metadata": {},
     "output_type": "display_data"
    }
   ],
   "source": [
    "# define variables \n",
    "h1 <- 0.2\n",
    "h2 <- 0.5\n",
    "\n",
    "# h1 = rg * h2\n",
    "rg <- h1/h2\n",
    "\n",
    "# print rg at threshold (minimum value for genetic correlation)\n",
    "rg"
   ]
  }
 ],
 "metadata": {
  "kernelspec": {
   "display_name": "R",
   "language": "R",
   "name": "ir"
  },
  "language_info": {
   "codemirror_mode": "r",
   "file_extension": ".r",
   "mimetype": "text/x-r-source",
   "name": "R",
   "pygments_lexer": "r",
   "version": "4.1.2"
  }
 },
 "nbformat": 4,
 "nbformat_minor": 5
}
