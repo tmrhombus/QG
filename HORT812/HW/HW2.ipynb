{
 "cells": [
  {
   "cell_type": "markdown",
   "id": "b9c458f0",
   "metadata": {},
   "source": [
    "# Homework 2 :: Professor Agron, Hort 812, UW-Madison "
   ]
  },
  {
   "cell_type": "markdown",
   "id": "9c90e3aa",
   "metadata": {},
   "source": [
    "### Question 1        \n",
    "        Potato yields were measured for 259 genotypes across four years and four states (MI, NY, OR, WI). A partially replicated design was used, with some genotypes tested using one plot and some with two plots per environment. You are provided an R script illustrating how to analyze the data in ASReml-R using the E model.\n",
    "        (5 points) For the E model, what is the estimated broad-sense heritability on an entry-mean basis for the replicated entries? Use the arithmetic average of the residual variances across environments.\n",
    "        (10 points) Analyze using the VxLY model and report the estimates for G, GxL, GxY, GxLxY, and the mean residual variance. What is the estimated broad-sense heritability on an entry-mean basis for the replicated entries?\n",
    "        (5 points) Compare results for the E vs LY models. Based on the AIC, which would you select?"
   ]
  },
  {
   "cell_type": "markdown",
   "id": "b54eed33",
   "metadata": {},
   "source": [
    "### Question 2\n",
    "        Two traits with equal heritability have a genetic correlation of -0.3. Through selection, your goal is to increase both traits. \n",
    "        (5 points) Draw the ellipse of possible responses to selection. If certain lengths or angles are known, label them.\n",
    "        (5 points) What section of the ellipse constitutes the pareto optimal surface?\n",
    "        (5 points) If the two traits have equal weight for genetic merit, which point on the surface represents the optimal response?\n"
   ]
  },
  {
   "cell_type": "markdown",
   "id": "50eeadf9",
   "metadata": {},
   "source": [
    "### Question 3\n",
    "(10 points) Compute the ratio between the Smith-Hazel index coefficients for two traits that contribute equally to genetic merit, assuming $h_1^2=0.2$,$h_2^2=0.4$,$r_g=0.3$. Assume zero covariance between the prediction errors for the traits, so that $r_y=r_g h_1 h_2$. \n",
    "Hints\n",
    "        Matrix multiplication in R uses the symbol %*% \n",
    "        The inverse of matrix A is computed by solve(A)"
   ]
  },
  {
   "cell_type": "code",
   "execution_count": null,
   "id": "27598032",
   "metadata": {},
   "outputs": [],
   "source": []
  }
 ],
 "metadata": {
  "kernelspec": {
   "display_name": "R",
   "language": "R",
   "name": "ir"
  },
  "language_info": {
   "codemirror_mode": "r",
   "file_extension": ".r",
   "mimetype": "text/x-r-source",
   "name": "R",
   "pygments_lexer": "r",
   "version": "4.1.2"
  }
 },
 "nbformat": 4,
 "nbformat_minor": 5
}
