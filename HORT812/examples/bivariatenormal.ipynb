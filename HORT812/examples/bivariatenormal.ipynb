{
 "cells": [
  {
   "cell_type": "markdown",
   "id": "b9c458f0",
   "metadata": {},
   "source": [
    "# Truncated Multivariate Normal"
   ]
  },
  {
   "cell_type": "markdown",
   "id": "6a0f17f7",
   "metadata": {},
   "source": [
    "## Bivariate Normal"
   ]
  },
  {
   "cell_type": "markdown",
   "id": "9c90e3aa",
   "metadata": {},
   "source": [
    "Let $x$ and $y$ be distributed as a bivariate normal distribution, with means $\\mu_1$ and $\\mu_2$, standard deviations $\\sigma_1$ and $\\sigma_2$, and scale-free measure of correlation $r=\\text{Cov}(x,y)/\\sigma_x\\sigma_y$.\n",
    "\n",
    "Then the probability density is given by\n",
    "\n",
    "$f(x,y) = \\frac{1}{2\\pi\\sigma_x\\sigma_y\\sqrt{1-r^2}}\\exp\\left[ -\\frac{1}{2(1-r^2)}\\left[ \\frac{(x-\\mu_x)^2}{\\sigma_x^2} + \\frac{(y-\\mu_y)^2}{\\sigma_y^2} - \\frac{2r(x-\\mu_x)(y-\\mu_y)}{\\sigma_x\\sigma_y} \\right] \\right]$"
   ]
  },
  {
   "cell_type": "markdown",
   "id": "b54eed33",
   "metadata": {},
   "source": [
    "Selection intensity is given by:\n",
    "\n",
    "intensity $ = \\frac{\\phi\\left (\\Phi^{-1}(1-\\xi) \\right)}{\\xi}$, where\n",
    "\n",
    "$\\xi = z/100$ is the fraction of the population selected ($z$ is percent)\n",
    "\n",
    "$\\phi(x)$ is the Probability Density Function (PDF) for a normal distribution \\\n",
    "  $\\phi(x) = $ dnorm in R  \n",
    "  \n",
    "$\\Phi(x)$ is the Cumulative Density Function (CDF) for a normal distribution \\\n",
    "  $\\Phi(x) = $ pnorm in R \n",
    "  \n",
    "$\\Phi^{-1}(x)$ is the Quantile for a normal distribution \\\n",
    "  $\\Phi^{-1}(x) = $ qnorm in R"
   ]
  },
  {
   "cell_type": "markdown",
   "id": "e7a5b710",
   "metadata": {},
   "source": [
    "## Matrix Formulation for Multivariate Normal"
   ]
  },
  {
   "cell_type": "markdown",
   "id": "0a13548c",
   "metadata": {},
   "source": [
    "Let the $m$ variables ${\\bf X}=[x_1,x_2,\\dots,x_m]$ follow a multivariate normal distribution, with means ${\\bf\\mu}=[\\mu_1,\\mu_2,\\dots,\\mu_m]$, and $m\\times m$ correlation matrix ${\\bf\\Sigma}=\\Sigma_{i,j}=\\text{Cov}(x_i,x_j)$.\n",
    "\n",
    "Then the probability density is given by\n",
    "\n",
    "$f({\\bf X}) = \\frac{1}{\\sqrt{(2\\pi)^m|{\\bf \\Sigma}|}} \\exp\\left[ -\\frac{1}{2}\\left({\\bf X}-{\\bf \\mu}\\right)^T {\\bf \\Sigma}^{-1}\\left({\\bf X}-{\\bf \\mu}\\right)  \\right]$"
   ]
  },
  {
   "cell_type": "code",
   "execution_count": 13,
   "id": "d6d3267b",
   "metadata": {},
   "outputs": [
    {
     "data": {
      "image/png": "[encoded data removed]",
      "text/plain": [
       "<Figure size 432x288 with 1 Axes>"
      ]
     },
     "metadata": {
      "needs_background": "light"
     },
     "output_type": "display_data"
    }
   ],
   "source": [
    "import numpy as np\n",
    "\n",
    "\n",
    "def pdf_multivariate_gauss(x, mu, cov):\n",
    "    '''\n",
    "    Caculate the multivariate normal density (pdf)\n",
    "\n",
    "    Keyword arguments:\n",
    "        x = numpy array of a \"d x 1\" sample vector\n",
    "        mu = numpy array of a \"d x 1\" mean vector\n",
    "        cov = \"numpy array of a d x d\" covariance matrix\n",
    "    '''\n",
    "    assert(mu.shape[0] > mu.shape[1]), 'mu must be a row vector'\n",
    "    assert(x.shape[0] > x.shape[1]), 'x must be a row vector'\n",
    "    assert(cov.shape[0] == cov.shape[1]), 'covariance matrix must be square'\n",
    "    assert(mu.shape[0] == cov.shape[0]), 'cov_mat and mu_vec must have the same dimensions'\n",
    "    assert(mu.shape[0] == x.shape[0]), 'mu and x must have the same dimensions'\n",
    "    part1 = 1 / ( ((2* np.pi)**(len(mu)/2)) * (np.linalg.det(cov)**(1/2)) )\n",
    "    part2 = (-1/2) * ((x-mu).T.dot(np.linalg.inv(cov))).dot((x-mu))\n",
    "    return float(part1 * np.exp(part2))\n",
    "\n",
    "def test_gauss_pdf():\n",
    "    x = np.array([[0],[0]])\n",
    "    mu  = np.array([[0],[0]])\n",
    "    cov = np.eye(2) \n",
    "\n",
    "    print(\"PDF_MVN 1\")\n",
    "    print(pdf_multivariate_gauss(x, mu, cov))\n",
    "    print(\"=====\")\n",
    "    \n",
    "    print(\"PDF_MVN 2\")\n",
    "    var = multivariate_normal(mean=[0,0], cov=[[1,0],[0,1]])\n",
    "    print(var.pdf([1,0]))\n",
    "    print(\"-----\")\n",
    "    x  = x.reshape((2,))\n",
    "    mu = mu.reshape((2,))\n",
    "    var = multivariate_normal(mean=mu, cov=cov)\n",
    "    print(var.pdf(x))\n",
    "    \n",
    "    \n",
    "from scipy.stats import multivariate_normal\n",
    "#test_gauss_pdf()\n",
    "    \n",
    "\n",
    "    \n",
    "# make plot of 2D distribution\n",
    "\n",
    "#x = np.array([[0],[0]])\n",
    "#mu  = np.array([[0],[0]])\n",
    "#cov = np.eye(2) \n",
    "\n",
    "#x  = x.reshape((2,))\n",
    "#mu = mu.reshape((2,))\n",
    "#var = multivariate_normal(mean=mu, cov=cov)\n",
    "#print(var.pdf(x))\n",
    "\n",
    "#x1 = 0\n",
    "#x2 = 0\n",
    "\n",
    "X = np.array([x1,x2])\n",
    "Mu = np.array([0,0])\n",
    "Cov = np.eye(2)\n",
    "\n",
    "MVNdist = multivariate_normal(mean=Mu, cov=Cov)\n",
    "#z = MVNdist.pdf(X)\n",
    "\n",
    "x = np.linspace(-5, 5, 50)\n",
    "y = np.linspace(-5, 5, 40)\n",
    "\n",
    "xs, ys= np.meshgrid(x, y)\n",
    "\n",
    "z = MVNdist.pdf(np.dstack((xs,ys)))\n",
    "#print(z)\n",
    "\n",
    "import matplotlib.pyplot as plt \n",
    "\n",
    "plt.contour(x,y,z)\n",
    "plt.show()\n",
    "\n",
    "\n",
    "\n"
   ]
  },
  {
   "cell_type": "code",
   "execution_count": null,
   "id": "34ecc4b9",
   "metadata": {},
   "outputs": [],
   "source": [
    "\n",
    "    \n",
    "# from scipy.stats import multivariate_normal\n",
    "# var = multivariate_normal(mean=[0,0], cov=[[1,0],[0,1]])\n",
    "# var.pdf([1,0])\n",
    "# \n",
    "# \n",
    "# \n",
    "# from scipy.stats import multivariate_normal\n",
    "# x = np.linspace(0, 5, 10, endpoint=False)\n",
    "# y = multivariate_normal.pdf(x, mean=2.5, cov=0.5)\n",
    "# \n",
    "# #y\n",
    "# #y([ 0.00108914,  0.01033349,  0.05946514,  0.20755375,  0.43939129,\n",
    "# #    0.56418958,  0.43939129,  0.20755375,  0.05946514,  0.01033349])\n",
    "# \n",
    "# plt.plot(x, y)\n",
    "# \n",
    "# \n",
    "# \n",
    "# def truncatedMVN(X,Mu,Std,Cov):\n",
    "#     \"\"\"\n",
    "#     Multivariate Normal Distribution \n",
    "#     \n",
    "#     X = Random Variable (k,1)\n",
    "#     \"\"\"\n",
    "#     \n",
    "#     \n",
    "#     \n",
    "#     \n",
    "# # initialize matrices\n",
    "# X=np.ndarray()\n",
    "# \n",
    "# \n",
    "# \n",
    "# X=1\n",
    "# Mu=1\n",
    "# Std=1\n",
    "# Cov=1\n",
    "# \n",
    "# truncatedMVN(X,Mu,Std,Cov)"
   ]
  }
 ],
 "metadata": {
  "kernelspec": {
   "display_name": "Python 3 (ipykernel)",
   "language": "python",
   "name": "python3"
  },
  "language_info": {
   "codemirror_mode": {
    "name": "ipython",
    "version": 3
   },
   "file_extension": ".py",
   "mimetype": "text/x-python",
   "name": "python",
   "nbconvert_exporter": "python",
   "pygments_lexer": "ipython3",
   "version": "3.9.7"
  }
 },
 "nbformat": 4,
 "nbformat_minor": 5
}
