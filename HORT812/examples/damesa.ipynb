{
 "cells": [
  {
   "cell_type": "markdown",
   "id": "b9c458f0",
   "metadata": {},
   "source": [
    "# Damesa Paper"
   ]
  },
  {
   "cell_type": "markdown",
   "id": "9cd9147d",
   "metadata": {},
   "source": [
    "Goal is to motivate a two-stage analysis of data from a Multi-Environment Trial (MET) "
   ]
  },
  {
   "cell_type": "markdown",
   "id": "9c90e3aa",
   "metadata": {},
   "source": [
    "## Example 1: Trials at Multiple Sites in a Single Year"
   ]
  },
  {
   "cell_type": "markdown",
   "id": "a415b97a",
   "metadata": {},
   "source": [
    "### Single-Stage Analysis\n",
    "Randomizatoin-based model for a series of experiments laid out as generalized lattice design (Calinski 2005):\n",
    "\n",
    "$y_{ijkm} = \\phi + g_i + s_j + (gs)_{ij} + r_{jk} + b_{jkm} + e_{ijkm}$\n",
    "\n",
    "where\n",
    "\n",
    "$i = $ genotype index \\\n",
    "$j = $ site index \\\n",
    "$k = $ replicate index within $j$th site \\\n",
    "$m = $ block index within $k$th replicate at $j$th site\n",
    "\n",
    "\n",
    "$y_{ijkm} = $ observed data (phenotypic value) \\\n",
    "$\\phi = $ a general intercept \\\n",
    "$g_i = $ fixed main effect of the ith genotype \\\n",
    "$s_j \\sim N\\left( 0,\\sigma_s^2 \\right) = $ random main effect of the $j$th site \\\n",
    "$(gs)_{ij} \\sim N\\left(0,\\sigma_{gs}^2 \\right) = $ random interaction effect of $i$th genotype and the $j$th site \\\n",
    "$r_{jk} \\sim N\\left( 0,\\sigma^2_{r(j)} \\right) = $ random effect of the $k$th replicate within the $j$th site \\\n",
    "$b_{jkm} \\sim N \\left( 0, \\sigma_{b(j)}^2 \\right) = $ random effect of the $m$th block nested within the $k$th replicate at the $j$th site \\\n",
    "$e_{ijkm} \\sim N \\left( 0, \\sigma_{e(j)}^2 \\right) = $ residual plot error associated with observation\n",
    "\n"
   ]
  },
  {
   "cell_type": "markdown",
   "id": "d55af982",
   "metadata": {},
   "source": [
    "### Fully Efficient Two-Stage Analysis\n",
    "#### Stage 1: Analysis of Individual Sites\n",
    "\n",
    "$y_{ijkm} = \\mu_{ij} + r_{jk} + b_{jkm} + e_{ijkm}$\n",
    "\n",
    "where\n",
    "\n",
    "$i\\in\\{1,\\dots,q\\} = $ genotype index \\\n",
    "$j\\in\\{1,\\dots,p\\} = $ site index\n",
    "\n",
    "$\\mu_{ij}=\\phi+g_i+s_j+(gs)_{ij} = $ conditional expected value of $i$th genotype at $j$th site\n"
   ]
  },
  {
   "cell_type": "markdown",
   "id": "5429bcf8",
   "metadata": {},
   "source": []
  },
  {
   "cell_type": "code",
   "execution_count": null,
   "id": "1d47a314",
   "metadata": {},
   "outputs": [],
   "source": []
  }
 ],
 "metadata": {
  "kernelspec": {
   "display_name": "R",
   "language": "R",
   "name": "ir"
  },
  "language_info": {
   "codemirror_mode": "r",
   "file_extension": ".r",
   "mimetype": "text/x-r-source",
   "name": "R",
   "pygments_lexer": "r",
   "version": "4.1.2"
  }
 },
 "nbformat": 4,
 "nbformat_minor": 5
}
